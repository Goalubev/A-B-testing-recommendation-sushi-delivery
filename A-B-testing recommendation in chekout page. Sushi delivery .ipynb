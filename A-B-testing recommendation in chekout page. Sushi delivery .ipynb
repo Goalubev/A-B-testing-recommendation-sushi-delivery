{
 "cells": [
  {
   "cell_type": "markdown",
   "id": "a3414030",
   "metadata": {},
   "source": [
    "# A/B-тестирование рекомендаций в корзине. Доставка суши <a class=tocSkip>\n",
    "**Продукт** - сайт и приложение доставки суши.  \n",
    "\n",
    "**Цель** - Переработать рекомендации в корзине и проверить с помощью A/B-теста - значимы ли изменения.\n",
    "    \n",
    "**Коротко о внедрении**:       \n",
    "- Сейчас в рекомендациях в корзине лежат товары из категории роллы, которые с 99% вероятностью уже есть в корзине в том или ином виде на момент просмотра рекомендаций.\n",
    "- Логично и то, что человек на стадии корзины находится уже с необходимым количеством еды, чтобы насытиться. Предлагая основное блюдо, нам тяжело будет допродать. Разве что гость удалит один из товаров и заменит его рекомендованным.   \n",
    "- Вместо этого планируется добавить товары, которых скорее всего в корзине нет и они хорошо дополнят уже собранную корзину: напитки и десерты. Это соответственно и разница контента в группе А и Б.\n",
    "\n",
    "**Задачи**:\n",
    "1. Спланировать A/B-тест:\n",
    "- Определить метрики, сплит и метод раздачи меток,\n",
    "- Определить размер выборки и False positive rate на имеющихся данных.\n",
    "\n",
    "2. Провести A/B-тест и сделать анализ, \n",
    "3. Написать вывод и рекомендации."
   ]
  },
  {
   "cell_type": "markdown",
   "id": "2b17fcb7",
   "metadata": {
    "toc": true
   },
   "source": [
    "<h1>Оглавление<span class=\"tocSkip\"></span></h1>\n",
    "<div class=\"toc\"><ul class=\"toc-item\"><li><span><a href=\"#Планирование-A/B-теста\" data-toc-modified-id=\"Планирование-A/B-теста-1\"><span class=\"toc-item-num\">1&nbsp;&nbsp;</span>Планирование A/B-теста</a></span><ul class=\"toc-item\"><li><span><a href=\"#Определяем-метрики,-сплит-и-метод-раздачи-меток\" data-toc-modified-id=\"Определяем-метрики,-сплит-и-метод-раздачи-меток-1.1\"><span class=\"toc-item-num\">1.1&nbsp;&nbsp;</span>Определяем метрики, сплит и метод раздачи меток</a></span></li><li><span><a href=\"#Определяем-размер-выборки-и-False-positive-rate\" data-toc-modified-id=\"Определяем-размер-выборки-и-False-positive-rate-1.2\"><span class=\"toc-item-num\">1.2&nbsp;&nbsp;</span>Определяем размер выборки и False positive rate</a></span></li></ul></li><li><span><a href=\"#Проведение-A/B-теста-и-анализ\" data-toc-modified-id=\"Проведение-A/B-теста-и-анализ-2\"><span class=\"toc-item-num\">2&nbsp;&nbsp;</span>Проведение A/B-теста и анализ</a></span><ul class=\"toc-item\"><li><span><a href=\"#Оценка-изменения-аплифта-метрик-во-времени\" data-toc-modified-id=\"Оценка-изменения-аплифта-метрик-во-времени-2.1\"><span class=\"toc-item-num\">2.1&nbsp;&nbsp;</span>Оценка изменения аплифта метрик во времени</a></span></li><li><span><a href=\"#Расчет-статистической-значимости\" data-toc-modified-id=\"Расчет-статистической-значимости-2.2\"><span class=\"toc-item-num\">2.2&nbsp;&nbsp;</span>Расчет статистической значимости</a></span></li><li><span><a href=\"#Изучение-изменения-p-value-во-времени\" data-toc-modified-id=\"Изучение-изменения-p-value-во-времени-2.3\"><span class=\"toc-item-num\">2.3&nbsp;&nbsp;</span>Изучение изменения p-value во времени</a></span></li></ul></li><li><span><a href=\"#Выводы-и-рекомендации\" data-toc-modified-id=\"Выводы-и-рекомендации-3\"><span class=\"toc-item-num\">3&nbsp;&nbsp;</span>Выводы и рекомендации</a></span></li></ul></div>"
   ]
  },
  {
   "cell_type": "markdown",
   "id": "f81c097f",
   "metadata": {},
   "source": [
    "## Планирование A/B-теста"
   ]
  },
  {
   "cell_type": "markdown",
   "id": "941367b8",
   "metadata": {},
   "source": [
    "### Определяем метрики, сплит и метод раздачи меток"
   ]
  },
  {
   "cell_type": "markdown",
   "id": "a11f026d",
   "metadata": {},
   "source": [
    "В этом тесте мы оценим следующие метрики:\n",
    "- конверсионность рекомендаций,\n",
    "- дополнительно оценим средний чек в двух группах.\n",
    "\n",
    "Конверсионность рекомендаций мы будем оценивать по заказам: \n",
    "- Заказ отправлен с добавленным товаром из рекомендации - конверсия произошла. \n",
    "- Заказ без товара из рекомендаций - конверсия не произошла.   \n",
    "\n",
    "Основной выбрана именно эта метрика, так как в ней мы ожидаем максимальный аплифт, что в свою очередь поможет сократить длительность эксперимента и четко интерпретировать результаты. \n",
    "\n",
    "---\n",
    "\n",
    "Другие параметры:  \n",
    "**Сплит**: 50/50 - наименьшая длительность теста.  \n",
    "**Метод раздачи меток** - ленивая раздача пользователям, которые оказались в корзине. Так нам проще всего будет соблюсти баланс групп.       \n",
    "**Метод проверки**: t-тест. Подходящий для нас инструмент для оценки среднего. Данные будут представлены в виде 0 и 1 и не будут иметь выбросов. Для среднего чека также подойдет."
   ]
  },
  {
   "cell_type": "markdown",
   "id": "8a62b1a0",
   "metadata": {},
   "source": [
    "### Определяем размер выборки и False positive rate "
   ]
  },
  {
   "cell_type": "markdown",
   "id": "7b6f2ee0",
   "metadata": {},
   "source": [
    "Для того, чтобы определить размер выборки и длительность эксперимента нам потребуется посчитать базовую конверсию и прикинуть аплифт.  \n",
    "Дополнительно проверим собираемые данные на адекватность, посчитать False positive rate.\n",
    "\n",
    "Начнем с определения размера выборки."
   ]
  },
  {
   "cell_type": "code",
   "execution_count": 1,
   "id": "e1220363",
   "metadata": {},
   "outputs": [],
   "source": [
    "# импортируем библиотеки\n",
    "import pandas as pd\n",
    "import numpy as np\n",
    "from tqdm import tqdm\n",
    "from scipy import stats\n",
    "\n",
    "# зададим константы базовых покупок и покупок с добавлением рекомендаций\n",
    "PURCHASE = 5098\n",
    "PUR_ADD_REC = 311"
   ]
  },
  {
   "cell_type": "code",
   "execution_count": 2,
   "id": "d3e2de98",
   "metadata": {},
   "outputs": [
    {
     "name": "stdout",
     "output_type": "stream",
     "text": [
      "Базовая конверсия рекомендаций: 0.061\n"
     ]
    }
   ],
   "source": [
    "# посчитаем базовую конверсию\n",
    "print('Базовая конверсия рекомендаций:', round((PUR_ADD_REC / PURCHASE), 3))"
   ]
  },
  {
   "cell_type": "markdown",
   "id": "de8c53d0",
   "metadata": {},
   "source": [
    "Посчитали размер выборки на калькуляторе с заданными параметрами: \n",
    "- Мощность и уровень значимости: 80% и 5%,\n",
    "- relative MDE: 35%  \n",
    "Получили размер выборки: 2,065.\n",
    "\n",
    "Да, ожидаемый MDE стоит весьма высокий, но и эффективность рекомендаций должна сильно вырасти. Также доводы за небольшую выборку:\n",
    "- Отслеживаем заказы, что является весьма стабильной метрикой. В отличии от просмотров, в которых может быть много выбросов, случайных событий и т.д.\n",
    "- Обладаем не очень большим трафиком по заказам, чтобы растягивать тест сильнее.\n",
    "\n",
    "Далее посчитаем False positive rate для тестовой выборки без изменений. Применим t-тест 1000 раз, разбивая наши данные на группы а и б случайным образом."
   ]
  },
  {
   "cell_type": "code",
   "execution_count": 3,
   "id": "1294280b",
   "metadata": {},
   "outputs": [
    {
     "name": "stderr",
     "output_type": "stream",
     "text": [
      "100%|█████████████████████████████████████████████████████████████████████████████| 1000/1000 [00:04<00:00, 220.30it/s]"
     ]
    },
    {
     "name": "stdout",
     "output_type": "stream",
     "text": [
      "False positive rate: 0.047\n"
     ]
    },
    {
     "name": "stderr",
     "output_type": "stream",
     "text": [
      "\n"
     ]
    }
   ],
   "source": [
    "# приведем данные к набору 0 и 1 и объединим в один df\n",
    "a_a_test = pd.concat([pd.Series(0, index=np.arange(PURCHASE - PUR_ADD_REC))\n",
    "                      , pd.Series(1, index=np.arange(PUR_ADD_REC))], ignore_index=True).to_frame()\n",
    "a_a_test.columns = ['conversion']\n",
    "\n",
    "# Сделаем тысячу раз по 2 выборки и посчитаем для них стат значимость\n",
    "N = 1000\n",
    "p_vals = []\n",
    "\n",
    "for i in tqdm(range(N)):\n",
    "    a_a_test['group'] = np.random.choice(['a', 'b'], len(a_a_test), p=[1/2, 1/2])\n",
    "    \n",
    "    p_val = stats.ttest_ind(\n",
    "        a_a_test[a_a_test['group']=='a'].conversion,\n",
    "        a_a_test[a_a_test['group']=='b'].conversion,\n",
    "        equal_var = False\n",
    "    ).pvalue\n",
    "    \n",
    "    if p_val < 0.05:\n",
    "        p_vals.append(p_val)\n",
    "        \n",
    "print('False positive rate:', round((len(p_vals) / N), 4))"
   ]
  },
  {
   "cell_type": "markdown",
   "id": "4b80349b",
   "metadata": {},
   "source": [
    "Получили FPR = 4,7%, что говорит об адекватности наших данных при стат значимости 5%."
   ]
  },
  {
   "cell_type": "markdown",
   "id": "e66cb3e6",
   "metadata": {},
   "source": [
    "## Проведение A/B-теста и анализ"
   ]
  },
  {
   "attachments": {},
   "cell_type": "markdown",
   "id": "d0a3d0dc",
   "metadata": {},
   "source": [
    "Для проведение теста нам необходимо собрать 2 выборки А и B по 2065 заказов и оценить в них конверсию. \n",
    "Дополнительно оценим средний чек по двум группам. \n",
    "\n",
    "В процессе проведение - контролируем сплит.  \n",
    "\n",
    "**<<< To be continued...**"
   ]
  },
  {
   "cell_type": "markdown",
   "id": "39d51b21",
   "metadata": {},
   "source": [
    "### Оценка изменения аплифта метрик во времени"
   ]
  },
  {
   "cell_type": "markdown",
   "id": "d22d06f2",
   "metadata": {},
   "source": [
    "### Расчет статистической значимости"
   ]
  },
  {
   "cell_type": "markdown",
   "id": "8c1d0f04",
   "metadata": {},
   "source": [
    "### Изучение изменения p-value во времени"
   ]
  },
  {
   "cell_type": "markdown",
   "id": "e45840fa",
   "metadata": {},
   "source": [
    "## Выводы и рекомендации"
   ]
  }
 ],
 "metadata": {
  "kernelspec": {
   "display_name": "Python 3",
   "language": "python",
   "name": "python3"
  },
  "language_info": {
   "codemirror_mode": {
    "name": "ipython",
    "version": 3
   },
   "file_extension": ".py",
   "mimetype": "text/x-python",
   "name": "python",
   "nbconvert_exporter": "python",
   "pygments_lexer": "ipython3",
   "version": "3.8.8"
  },
  "toc": {
   "base_numbering": 1,
   "nav_menu": {},
   "number_sections": true,
   "sideBar": true,
   "skip_h1_title": false,
   "title_cell": "Оглавление",
   "title_sidebar": "Contents",
   "toc_cell": true,
   "toc_position": {},
   "toc_section_display": true,
   "toc_window_display": true
  },
  "varInspector": {
   "cols": {
    "lenName": 16,
    "lenType": 16,
    "lenVar": 40
   },
   "kernels_config": {
    "python": {
     "delete_cmd_postfix": "",
     "delete_cmd_prefix": "del ",
     "library": "var_list.py",
     "varRefreshCmd": "print(var_dic_list())"
    },
    "r": {
     "delete_cmd_postfix": ") ",
     "delete_cmd_prefix": "rm(",
     "library": "var_list.r",
     "varRefreshCmd": "cat(var_dic_list()) "
    }
   },
   "types_to_exclude": [
    "module",
    "function",
    "builtin_function_or_method",
    "instance",
    "_Feature"
   ],
   "window_display": false
  }
 },
 "nbformat": 4,
 "nbformat_minor": 5
}
